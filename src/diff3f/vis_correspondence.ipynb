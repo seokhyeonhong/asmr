{
 "cells": [
  {
   "cell_type": "code",
   "execution_count": null,
   "metadata": {},
   "outputs": [],
   "source": [
    "import torch\n",
    "from utils import convert_mesh_container_to_torch_mesh, cosine_similarity, double_plot, get_colors, generate_colors\n",
    "from dataloaders.mesh_container import MeshContainer\n",
    "from functional_map import compute_surface_map\n",
    "import numpy as np"
   ]
  },
  {
   "cell_type": "code",
   "execution_count": 2,
   "metadata": {},
   "outputs": [],
   "source": [
    "device = torch.device('cuda:0')\n",
    "torch.cuda.set_device(device)\n",
    "num_views = 100\n",
    "H = 512\n",
    "W = 512\n",
    "num_images_per_prompt = 1\n",
    "tolerance = 0.004\n",
    "random_seed = 42\n",
    "use_normal_map = True"
   ]
  },
  {
   "cell_type": "code",
   "execution_count": 20,
   "metadata": {},
   "outputs": [],
   "source": [
    "source_char = \"Abe\"\n",
    "target_char = \"Claire\"\n",
    "\n",
    "source_file_path = f\"./ToSH_char_mesh_npz/{source_char}/mesh/tpose_mesh_scaled.npz\"\n",
    "target_file_path = f\"./ToSH_CharVtx/{target_char}/mesh/tpose_mesh_scaled.npz\"\n",
    "\n",
    "source_mesh = np.load(source_file_path)\n",
    "target_mesh = np.load(target_file_path)\n",
    "source_mesh = MeshContainer(source_mesh[\"c_rest_pos\"], source_mesh[\"fid_to_cids\"])\n",
    "target_mesh = MeshContainer(target_mesh[\"c_rest_pos\"], target_mesh[\"fid_to_cids\"])\n",
    "\n",
    "f_source = torch.from_numpy(np.load(f\"./ToSJ_diff3f/{source_char}/diff3f.npy\")).float()\n",
    "f_target = torch.from_numpy(np.load(f\"./ToSJ_diff3f_new/{target_char}/diff3f.npy\")).float()"
   ]
  },
  {
   "cell_type": "code",
   "execution_count": 21,
   "metadata": {},
   "outputs": [],
   "source": [
    "s = cosine_similarity(f_source.to(device),f_target.to(device))\n",
    "s = torch.argmax(s, dim=0).cpu().numpy()\n",
    "cmap_source = get_colors(source_mesh.vert)\n",
    "cmap_target = cmap_source[s]\n",
    "# cmap_target = get_colors(target_mesh.vert)"
   ]
  },
  {
   "cell_type": "code",
   "execution_count": 22,
   "metadata": {},
   "outputs": [
    {
     "data": {
      "application/vnd.jupyter.widget-view+json": {
       "model_id": "31be93207cfa49eab8111ec286c56c3d",
       "version_major": 2,
       "version_minor": 0
      },
      "text/plain": [
       "HBox(children=(Output(), Output()))"
      ]
     },
     "metadata": {},
     "output_type": "display_data"
    },
    {
     "data": {
      "application/vnd.jupyter.widget-view+json": {
       "model_id": "356f9e99d78649b78bc620fb19a9a90f",
       "version_major": 2,
       "version_minor": 0
      },
      "text/plain": [
       "HBox(children=(Output(), Output()))"
      ]
     },
     "metadata": {},
     "output_type": "display_data"
    }
   ],
   "source": [
    "double_plot(source_mesh,target_mesh,cmap_source,cmap_target)"
   ]
  },
  {
   "cell_type": "code",
   "execution_count": null,
   "metadata": {},
   "outputs": [],
   "source": []
  }
 ],
 "metadata": {
  "kernelspec": {
   "display_name": "saus",
   "language": "python",
   "name": "saus"
  },
  "language_info": {
   "codemirror_mode": {
    "name": "ipython",
    "version": 3
   },
   "file_extension": ".py",
   "mimetype": "text/x-python",
   "name": "python",
   "nbconvert_exporter": "python",
   "pygments_lexer": "ipython3",
   "version": "3.8.19"
  }
 },
 "nbformat": 4,
 "nbformat_minor": 4
}
