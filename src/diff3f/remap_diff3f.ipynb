{
 "cells": [
  {
   "cell_type": "code",
   "execution_count": 2,
   "id": "bfc4929b-4791-4a22-983f-1cf38be0cdc5",
   "metadata": {},
   "outputs": [],
   "source": [
    "import torch\n",
    "from diff3f import get_features_per_vertex\n",
    "from time import time\n",
    "from utils import convert_mesh_container_to_torch_mesh, cosine_similarity, double_plot, get_colors, generate_colors\n",
    "from dataloaders.mesh_container import MeshContainer\n",
    "from scipy.spatial import cKDTree\n",
    "import trimesh\n",
    "import numpy as np"
   ]
  },
  {
   "cell_type": "code",
   "execution_count": 3,
   "id": "ebfbf23d-0f74-42f4-8202-3e3b63f0663d",
   "metadata": {},
   "outputs": [],
   "source": [
    "def map_vertices(source_mesh, target_mesh, normalize=False):\n",
    "    \"\"\"\n",
    "    Get closest vertex index on source mesh\n",
    "    Args:\n",
    "        source_mesh (trimesh.Trimesh)\n",
    "        target_mesh (trimesh.Trimesh)\n",
    "    Returns:\n",
    "        distances (np.ndarray): distance with the closest vertex on source mesh\n",
    "        vertex_map (np.ndarray): index of the closest vertex on source mesh\n",
    "    \"\"\"\n",
    "    src_v = source_mesh.vertices\n",
    "    tgt_v = target_mesh.vertices\n",
    "    \n",
    "    if normalize:\n",
    "        src_v = normalize_mesh(src_v)\n",
    "        tgt_v = normalize_mesh(tgt_v)\n",
    "        \n",
    "    tree = cKDTree(src_v)\n",
    "    distances, vertex_map = tree.query(tgt_v, k=1)\n",
    "    return distances, vertex_map\n",
    "\n",
    "def normalize_mesh(vertices, mode=1):\n",
    "    \"\"\"\n",
    "    Args:\n",
    "        vertices (np.ndarray): raw vertex position\n",
    "        mode (bool): if True, apply rescaling\n",
    "        # mode==1: range in (-1 ~ 1) || mode==0: range in (0 ~ 1)\n",
    "    Return:\n",
    "        vertices (np.ndarray): normalized vertex position\n",
    "    \"\"\"\n",
    "    # Center the vertices at the origin\n",
    "    vertices = vertices - (vertices.max(0)+vertices.min(0))*0.5\n",
    "    \n",
    "    # Find the maximum range in any dimension\n",
    "    max_range = np.max(np.ptp(vertices, axis=0))\n",
    "\n",
    "    # Scale the vertices to fit within the -1 to 1 range while maintaining aspect ratio\n",
    "    if mode:\n",
    "        vertices = vertices / max_range * 2\n",
    "    return vertices\n",
    "\n",
    "def compute_features(device, pipe, dino_model, m, prompt):\n",
    "    mesh = convert_mesh_container_to_torch_mesh(m, device=device, is_tosca=False)\n",
    "    mesh_vertices = mesh.verts_list()[0]\n",
    "    features = get_features_per_vertex(\n",
    "        device=device,\n",
    "        pipe=pipe, \n",
    "        dino_model=dino_model,\n",
    "        mesh=mesh,\n",
    "        prompt=prompt,\n",
    "        mesh_vertices=mesh_vertices,\n",
    "        num_views=num_views,\n",
    "        H=H,\n",
    "        W=W,\n",
    "        tolerance=tolerance,\n",
    "        num_images_per_prompt=num_images_per_prompt,\n",
    "        use_normal_map=use_normal_map,\n",
    "    )\n",
    "    return features.cpu()"
   ]
  },
  {
   "cell_type": "code",
   "execution_count": 4,
   "id": "78bb2179-56c2-47f1-9381-9eeddd39a092",
   "metadata": {},
   "outputs": [],
   "source": [
    "# mesh_name = 'AlienSoldier'\n",
    "#mesh_name = 'Amy'\n",
    "# mesh_name = 'Astra'\n",
    "# mesh_name = 'Brady'\n",
    "# mesh_name = 'Brian'\n",
    "# mesh_name = 'Bryce'\n",
    "# mesh_name = 'CastleGuard01'\n",
    "# mesh_name = 'Chad'\n",
    "# mesh_name = 'Claire'\n",
    "# mesh_name = 'CopzombieLActisdato'\n",
    "# mesh_name = 'Jolleen'\n",
    "# mesh_name = 'Kaya'\n",
    "# mesh_name = 'MariaJJOng'\n",
    "# mesh_name = 'MremirehODesbiens'\n",
    "# mesh_name = 'Ortiz'\n",
    "# mesh_name = 'PumpkinhulkL'\n",
    "# mesh_name = 'TheBoss'\n",
    "# mesh_name = 'Timmy'\n",
    "# mesh_name = 'Ty'\n",
    "mesh_name = 'VanguardByTChoonyung'"
   ]
  },
  {
   "cell_type": "code",
   "execution_count": 5,
   "id": "2e2bdf4f-1440-4fc6-a505-93362f0bf4b4",
   "metadata": {},
   "outputs": [
    {
     "ename": "FileNotFoundError",
     "evalue": "[Errno 2] No such file or directory: '../../../SAUS_prev/Diffusion-3D-Features/Mesh_data/VanguardByTChoonyung/Mesh/VanguardByTChoonyung.npz'",
     "output_type": "error",
     "traceback": [
      "\u001b[0;31m---------------------------------------------------------------------------\u001b[0m",
      "\u001b[0;31mFileNotFoundError\u001b[0m                         Traceback (most recent call last)",
      "Cell \u001b[0;32mIn[5], line 2\u001b[0m\n\u001b[1;32m      1\u001b[0m base_path \u001b[38;5;241m=\u001b[39m \u001b[38;5;124m'\u001b[39m\u001b[38;5;124m../../../SAUS_prev/Diffusion-3D-Features/Mesh_data\u001b[39m\u001b[38;5;124m'\u001b[39m\n\u001b[0;32m----> 2\u001b[0m ee \u001b[38;5;241m=\u001b[39m \u001b[43mnp\u001b[49m\u001b[38;5;241;43m.\u001b[39;49m\u001b[43mload\u001b[49m\u001b[43m(\u001b[49m\u001b[38;5;124;43mf\u001b[39;49m\u001b[38;5;124;43m'\u001b[39;49m\u001b[38;5;132;43;01m{\u001b[39;49;00m\u001b[43mbase_path\u001b[49m\u001b[38;5;132;43;01m}\u001b[39;49;00m\u001b[38;5;124;43m/\u001b[39;49m\u001b[38;5;132;43;01m{\u001b[39;49;00m\u001b[43mmesh_name\u001b[49m\u001b[38;5;132;43;01m}\u001b[39;49;00m\u001b[38;5;124;43m/Mesh/\u001b[39;49m\u001b[38;5;132;43;01m{\u001b[39;49;00m\u001b[43mmesh_name\u001b[49m\u001b[38;5;132;43;01m}\u001b[39;49;00m\u001b[38;5;124;43m.npz\u001b[39;49m\u001b[38;5;124;43m'\u001b[39;49m\u001b[43m)\u001b[49m\n\u001b[1;32m      4\u001b[0m \u001b[38;5;28mprint\u001b[39m(ee\u001b[38;5;241m.\u001b[39m\u001b[38;5;18m__dict__\u001b[39m)\n\u001b[1;32m      6\u001b[0m \u001b[38;5;28mprint\u001b[39m(ee[\u001b[38;5;124m'\u001b[39m\u001b[38;5;124mfeat\u001b[39m\u001b[38;5;124m'\u001b[39m]\u001b[38;5;241m.\u001b[39mshape)\n",
      "File \u001b[0;32m/opt/conda/envs/saus/lib/python3.8/site-packages/numpy/lib/npyio.py:405\u001b[0m, in \u001b[0;36mload\u001b[0;34m(file, mmap_mode, allow_pickle, fix_imports, encoding, max_header_size)\u001b[0m\n\u001b[1;32m    403\u001b[0m     own_fid \u001b[38;5;241m=\u001b[39m \u001b[38;5;28;01mFalse\u001b[39;00m\n\u001b[1;32m    404\u001b[0m \u001b[38;5;28;01melse\u001b[39;00m:\n\u001b[0;32m--> 405\u001b[0m     fid \u001b[38;5;241m=\u001b[39m stack\u001b[38;5;241m.\u001b[39menter_context(\u001b[38;5;28;43mopen\u001b[39;49m\u001b[43m(\u001b[49m\u001b[43mos_fspath\u001b[49m\u001b[43m(\u001b[49m\u001b[43mfile\u001b[49m\u001b[43m)\u001b[49m\u001b[43m,\u001b[49m\u001b[43m \u001b[49m\u001b[38;5;124;43m\"\u001b[39;49m\u001b[38;5;124;43mrb\u001b[39;49m\u001b[38;5;124;43m\"\u001b[39;49m\u001b[43m)\u001b[49m)\n\u001b[1;32m    406\u001b[0m     own_fid \u001b[38;5;241m=\u001b[39m \u001b[38;5;28;01mTrue\u001b[39;00m\n\u001b[1;32m    408\u001b[0m \u001b[38;5;66;03m# Code to distinguish from NumPy binary files and pickles.\u001b[39;00m\n",
      "\u001b[0;31mFileNotFoundError\u001b[0m: [Errno 2] No such file or directory: '../../../SAUS_prev/Diffusion-3D-Features/Mesh_data/VanguardByTChoonyung/Mesh/VanguardByTChoonyung.npz'"
     ]
    }
   ],
   "source": [
    "\n",
    "base_path = '../../../SAUS_prev/Diffusion-3D-Features/Mesh_data'\n",
    "ee = np.load(f'{base_path}/{mesh_name}/Mesh/{mesh_name}.npz')\n",
    "\n",
    "print(ee.__dict__)\n",
    "\n",
    "print(ee['feat'].shape)\n",
    "print(ee['vert'].shape)\n",
    "\n",
    "# np.save(f'{base_path}/{mesh_name}/Mesh/tpose_mesh_diff3f',ee['feat'])\n",
    "\n",
    "mm = np.load(f'{base_path}/{mesh_name}/Mesh/tpose_mesh.npz')\n",
    "print(mm.__dict__)\n",
    "print(mm['c_rest_pos'].shape)\n",
    "\n",
    "ee_mesh = trimesh.Trimesh(vertices=ee['vert'], faces=ee['face'], maintain_order=True, process=False)\n",
    "mm_mesh = trimesh.Trimesh(vertices=mm['c_rest_pos'], faces=mm['fid_to_cids'], maintain_order=True, process=False)\n",
    "\n",
    "_ =ee_mesh.export('./source_mesh.obj')\n",
    "_ =mm_mesh.export('./target_mesh.obj')"
   ]
  },
  {
   "cell_type": "code",
   "execution_count": 6,
   "id": "1f58b58a-5dc1-4a4b-9fe6-b7414e85ad61",
   "metadata": {},
   "outputs": [
    {
     "ename": "NameError",
     "evalue": "name 'ee' is not defined",
     "output_type": "error",
     "traceback": [
      "\u001b[0;31m---------------------------------------------------------------------------\u001b[0m",
      "\u001b[0;31mNameError\u001b[0m                                 Traceback (most recent call last)",
      "Cell \u001b[0;32mIn[6], line 3\u001b[0m\n\u001b[1;32m      1\u001b[0m device \u001b[38;5;241m=\u001b[39m torch\u001b[38;5;241m.\u001b[39mdevice(\u001b[38;5;124m'\u001b[39m\u001b[38;5;124mcuda:0\u001b[39m\u001b[38;5;124m'\u001b[39m)\n\u001b[0;32m----> 3\u001b[0m f_source \u001b[38;5;241m=\u001b[39m torch\u001b[38;5;241m.\u001b[39mfrom_numpy(\u001b[43mee\u001b[49m[\u001b[38;5;124m'\u001b[39m\u001b[38;5;124mfeat\u001b[39m\u001b[38;5;124m'\u001b[39m])\n\u001b[1;32m      4\u001b[0m f_target \u001b[38;5;241m=\u001b[39m f_source\n\u001b[1;32m      5\u001b[0m source_mesh \u001b[38;5;241m=\u001b[39m MeshContainer()\u001b[38;5;241m.\u001b[39mload_from_file(\u001b[38;5;124m'\u001b[39m\u001b[38;5;124m./source_mesh.obj\u001b[39m\u001b[38;5;124m'\u001b[39m)\n",
      "\u001b[0;31mNameError\u001b[0m: name 'ee' is not defined"
     ]
    }
   ],
   "source": [
    "device = torch.device('cuda:0')\n",
    "\n",
    "f_source = torch.from_numpy(ee['feat'])\n",
    "f_target = f_source\n",
    "source_mesh = MeshContainer().load_from_file('./source_mesh.obj')\n",
    "target_mesh = MeshContainer().load_from_file('./target_mesh.obj')\n",
    "s = cosine_similarity(f_source.to(device), f_target.to(device))\n",
    "s = torch.argmax(s, dim=0).cpu().numpy()\n",
    "cmap_source = get_colors(source_mesh.vert)\n",
    "cmap_target = cmap_source[s]\n",
    "double_plot(source_mesh,target_mesh,cmap_source,cmap_target)  "
   ]
  },
  {
   "cell_type": "code",
   "execution_count": 7,
   "id": "fc5ea435-a9ed-48a5-9468-c005dd6509ff",
   "metadata": {},
   "outputs": [
    {
     "ename": "NameError",
     "evalue": "name 'ee_mesh' is not defined",
     "output_type": "error",
     "traceback": [
      "\u001b[0;31m---------------------------------------------------------------------------\u001b[0m",
      "\u001b[0;31mNameError\u001b[0m                                 Traceback (most recent call last)",
      "Cell \u001b[0;32mIn[7], line 1\u001b[0m\n\u001b[0;32m----> 1\u001b[0m distance, vertex_map \u001b[38;5;241m=\u001b[39m map_vertices(\u001b[43mee_mesh\u001b[49m, mm_mesh,normalize\u001b[38;5;241m=\u001b[39m\u001b[38;5;28;01mTrue\u001b[39;00m)\n\u001b[1;32m      2\u001b[0m \u001b[38;5;28mprint\u001b[39m(vertex_map)\n\u001b[1;32m      3\u001b[0m f_source \u001b[38;5;241m=\u001b[39m torch\u001b[38;5;241m.\u001b[39mfrom_numpy(ee[\u001b[38;5;124m'\u001b[39m\u001b[38;5;124mfeat\u001b[39m\u001b[38;5;124m'\u001b[39m])\n",
      "\u001b[0;31mNameError\u001b[0m: name 'ee_mesh' is not defined"
     ]
    }
   ],
   "source": [
    "distance, vertex_map = map_vertices(ee_mesh, mm_mesh,normalize=True)\n",
    "print(vertex_map)\n",
    "f_source = torch.from_numpy(ee['feat'])\n",
    "f_target = torch.from_numpy(ee['feat'][vertex_map])\n",
    "source_mesh = MeshContainer().load_from_file('./source_mesh.obj')\n",
    "target_mesh = MeshContainer().load_from_file('./target_mesh.obj')\n",
    "s = cosine_similarity(f_source.to(device), f_target.to(device))\n",
    "s = torch.argmax(s, dim=0).cpu().numpy()\n",
    "cmap_source = get_colors(source_mesh.vert)\n",
    "cmap_target = cmap_source[s]\n",
    "double_plot(source_mesh,target_mesh,cmap_source,cmap_target)\n",
    "\n",
    "# np.save(f'{base_path}/{mesh_name}/Mesh/tpose_mesh_diff3f', ee['feat'][vertex_map])\n",
    "# np.save(f'{base_path}/{mesh_name}/Mesh/tpose_mesh_diff3f_src', ee['feat'])"
   ]
  },
  {
   "cell_type": "code",
   "execution_count": null,
   "id": "32974f5d-630d-4fb0-af5a-752f3c64d02f",
   "metadata": {},
   "outputs": [],
   "source": []
  },
  {
   "cell_type": "code",
   "execution_count": null,
   "id": "29c42629-9c7a-4fba-a01f-9d1cad83ef0d",
   "metadata": {},
   "outputs": [],
   "source": []
  }
 ],
 "metadata": {
  "kernelspec": {
   "display_name": "saus",
   "language": "python",
   "name": "saus"
  },
  "language_info": {
   "codemirror_mode": {
    "name": "ipython",
    "version": 3
   },
   "file_extension": ".py",
   "mimetype": "text/x-python",
   "name": "python",
   "nbconvert_exporter": "python",
   "pygments_lexer": "ipython3",
   "version": "3.8.19"
  }
 },
 "nbformat": 4,
 "nbformat_minor": 5
}
