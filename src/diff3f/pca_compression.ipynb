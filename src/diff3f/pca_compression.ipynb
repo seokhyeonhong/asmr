{
 "cells": [
  {
   "cell_type": "code",
   "execution_count": 1,
   "metadata": {},
   "outputs": [],
   "source": [
    "import torch\n",
    "from utils import convert_mesh_container_to_torch_mesh, cosine_similarity, double_plot, get_colors, generate_colors\n",
    "from dataloaders.mesh_container import MeshContainer\n",
    "from functional_map import compute_surface_map\n",
    "import numpy as np"
   ]
  },
  {
   "cell_type": "code",
   "execution_count": 2,
   "metadata": {},
   "outputs": [],
   "source": [
    "device = torch.device('cuda:0')\n",
    "torch.cuda.set_device(device)\n",
    "num_views = 100\n",
    "H = 512\n",
    "W = 512\n",
    "num_images_per_prompt = 1\n",
    "tolerance = 0.004\n",
    "random_seed = 42\n",
    "use_normal_map = True"
   ]
  },
  {
   "cell_type": "code",
   "execution_count": 4,
   "metadata": {},
   "outputs": [],
   "source": [
    "import os\n",
    "characters = os.listdir(\"/data/saus/saus-train-v3\")\n",
    "features = []\n",
    "dims = []\n",
    "char_names = []\n",
    "for ch in sorted(characters):\n",
    "    # isdir\n",
    "    if not os.path.isdir(f\"/data/saus/saus-train-v3/{ch}\"):\n",
    "        continue\n",
    "    features.append(np.load(f\"/data/saus/saus-train-v3/{ch}/Mesh/tpose_mesh_diff3f.npy\"))\n",
    "    dims.append(features[-1].shape[0])\n",
    "    char_names.append(ch)\n",
    "features = np.concatenate(features)\n",
    "cumsum_dims = np.cumsum([0] + dims)\n",
    "\n",
    "features = torch.from_numpy(features).float().to(device)\n",
    "\n",
    "# PCA\n",
    "mean = features.mean(dim=0)\n",
    "features = features - mean\n",
    "U, S, V = torch.svd(features)\n",
    "features = features @ V[:, :32]\n",
    "\n",
    "# print(np.load(\"/data/saus/saus-test-v2/Michelle/Mesh/Astra_walk1_subject1_8/verts0000.npy\").shape)\n",
    "# test_characters = os.listdir(\"/data/saus/saus-test-v2\")\n",
    "# test_characters = [ 159,  ]\n",
    "test_characters = [ f for f in os.listdir(\"/data/shong/nrf/ASMR-Revision/\") if f.endswith(\".npz\") ]\n",
    "for ch in sorted(test_characters):\n",
    "    # isdir\n",
    "    # if not os.path.isdir(f\"/data/saus/asmr-ood/{ch}\"):\n",
    "    #     continue\n",
    "    os.makedirs(f\"/data/saus/asmr-ood/{ch.replace('.npz', '')}/Mesh\", exist_ok=True)\n",
    "    feat = np.load(f\"/data/shong/nrf/ASMR-Revision/{ch}\")[\"feat\"]\n",
    "    np.save(f\"/data/saus/asmr-ood/{ch.replace('.npz', '')}/Mesh/tpose_mesh_diff3f.npy\", feat)\n",
    "\n",
    "    feat = torch.from_numpy(feat).float().to(device)\n",
    "    feat = feat - mean\n",
    "    feat = feat @ V[:, :32]\n",
    "    np.save(f\"/data/saus/asmr-ood/{ch.replace('.npz', '')}/Mesh/tpose_mesh_diff3f_pca.npy\", feat.cpu().numpy())\n",
    "    # test_features.append(np.load(f\"/data/saus/asmr-ood/{ch}/Mesh/tpose_mesh_diff3f.npy\"))\n",
    "    # test_dims.append(test_features[-1].shape[0])\n",
    "    # test_char_names.append(ch)\n",
    "# test_features = np.concatenate(test_features)\n",
    "# test_cumsum_dims = np.cumsum([0] + test_dims)\n",
    "\n",
    "# test_features = torch.from_numpy(test_features).float().to(device)\n",
    "# test_features = test_features - mean\n",
    "# test_features = test_features @ V[:, :32]\n",
    "\n",
    "# np.save(f\"/data/saus/asmr-ood/{test_characters[0]}/Mesh/tpose_mesh_diff3f_pca.npy\", test_features.cpu().numpy())\n",
    "# print(test_features.shape)"
   ]
  },
  {
   "cell_type": "code",
   "execution_count": 32,
   "metadata": {},
   "outputs": [
    {
     "data": {
      "application/vnd.jupyter.widget-view+json": {
       "model_id": "483fb3ea74444b6bb6a7b31f2fd31e3f",
       "version_major": 2,
       "version_minor": 0
      },
      "text/plain": [
       "HBox(children=(Output(), Output()))"
      ]
     },
     "metadata": {},
     "output_type": "display_data"
    },
    {
     "data": {
      "application/vnd.jupyter.widget-view+json": {
       "model_id": "dad0af898cb84b9198126bb8682f0afd",
       "version_major": 2,
       "version_minor": 0
      },
      "text/plain": [
       "HBox(children=(Output(), Output()))"
      ]
     },
     "metadata": {},
     "output_type": "display_data"
    },
    {
     "data": {
      "application/vnd.jupyter.widget-view+json": {
       "model_id": "c06adb67d6804d2bb6d8758321562d02",
       "version_major": 2,
       "version_minor": 0
      },
      "text/plain": [
       "HBox(children=(Output(), Output()))"
      ]
     },
     "metadata": {},
     "output_type": "display_data"
    },
    {
     "data": {
      "application/vnd.jupyter.widget-view+json": {
       "model_id": "2be46997224e4ed88f77763a95b7e3f8",
       "version_major": 2,
       "version_minor": 0
      },
      "text/plain": [
       "HBox(children=(Output(), Output()))"
      ]
     },
     "metadata": {},
     "output_type": "display_data"
    }
   ],
   "source": [
    "src_idx = np.random.randint(0, len(dims))\n",
    "src_mesh = np.load(f\"/data/saus/saus-train-v3/{char_names[src_idx]}/Mesh/tpose_mesh.npz\")\n",
    "src_mesh = MeshContainer(src_mesh[\"c_rest_pos\"], src_mesh[\"fid_to_cids\"])\n",
    "\n",
    "tgt_idx = np.random.randint(0, len(dims))\n",
    "tgt_mesh = np.load(f\"/data/saus/saus-train-v3/{char_names[tgt_idx]}/Mesh/tpose_mesh.npz\")\n",
    "tgt_mesh = MeshContainer(tgt_mesh[\"c_rest_pos\"], tgt_mesh[\"fid_to_cids\"])\n",
    "\n",
    "# original features before PCA compression\n",
    "src_feature_orig = torch.from_numpy(np.load(f\"/data/saus/saus-train-v3/{char_names[src_idx]}/Mesh/tpose_mesh_diff3f.npy\")).float().to(device)\n",
    "tgt_feature_orig = torch.from_numpy(np.load(f\"/data/saus/saus-train-v3/{char_names[tgt_idx]}/Mesh/tpose_mesh_diff3f.npy\")).float().to(device)\n",
    "s_orig = cosine_similarity(src_feature_orig, tgt_feature_orig)\n",
    "s_orig = torch.argmax(s_orig, dim=0).cpu().numpy()\n",
    "cmap_source_orig = get_colors(src_mesh.vert)\n",
    "cmap_target_orig = cmap_source_orig[s_orig]\n",
    "\n",
    "double_plot(src_mesh, tgt_mesh, cmap_source_orig, cmap_target_orig)\n",
    "\n",
    "# compressed features\n",
    "feature_pca = []\n",
    "for i in range(len(dims)):\n",
    "    feature_pca.append(features[cumsum_dims[i]:cumsum_dims[i+1]])\n",
    "src_feature_pca = feature_pca[src_idx]\n",
    "tgt_feature_pca = feature_pca[tgt_idx]\n",
    "\n",
    "s = cosine_similarity(src_feature_pca.to(device), tgt_feature_pca.to(device))\n",
    "s = torch.argmax(s, dim=0).cpu().numpy()\n",
    "cmap_source = get_colors(src_mesh.vert)\n",
    "cmap_target = cmap_source[s]\n",
    "\n",
    "double_plot(src_mesh, tgt_mesh,cmap_source, cmap_target)  \n"
   ]
  },
  {
   "cell_type": "code",
   "execution_count": 33,
   "metadata": {},
   "outputs": [
    {
     "data": {
      "application/vnd.jupyter.widget-view+json": {
       "model_id": "32d99d5b757b44e798e71d4259a68399",
       "version_major": 2,
       "version_minor": 0
      },
      "text/plain": [
       "HBox(children=(Output(), Output()))"
      ]
     },
     "metadata": {},
     "output_type": "display_data"
    },
    {
     "data": {
      "application/vnd.jupyter.widget-view+json": {
       "model_id": "c6eee657b8f446f2b3488704a031e4dc",
       "version_major": 2,
       "version_minor": 0
      },
      "text/plain": [
       "HBox(children=(Output(), Output()))"
      ]
     },
     "metadata": {},
     "output_type": "display_data"
    },
    {
     "data": {
      "application/vnd.jupyter.widget-view+json": {
       "model_id": "11a953fdbed64949a46b3b704afa89b6",
       "version_major": 2,
       "version_minor": 0
      },
      "text/plain": [
       "HBox(children=(Output(), Output()))"
      ]
     },
     "metadata": {},
     "output_type": "display_data"
    },
    {
     "data": {
      "application/vnd.jupyter.widget-view+json": {
       "model_id": "9933f582fe434600b5ef6eacc3d14859",
       "version_major": 2,
       "version_minor": 0
      },
      "text/plain": [
       "HBox(children=(Output(), Output()))"
      ]
     },
     "metadata": {},
     "output_type": "display_data"
    }
   ],
   "source": [
    "src_idx = np.random.randint(0, len(dims))\n",
    "src_mesh = np.load(f\"/data/saus/saus-train-v3/{char_names[src_idx]}/Mesh/tpose_mesh.npz\")\n",
    "src_mesh = MeshContainer(src_mesh[\"c_rest_pos\"], src_mesh[\"fid_to_cids\"])\n",
    "\n",
    "tgt_idx = np.random.randint(0, len(test_dims))\n",
    "tgt_mesh = np.load(f\"/data/saus/saus-test-v3/{test_char_names[tgt_idx]}/Mesh/tpose_mesh.npz\")\n",
    "tgt_mesh = MeshContainer(tgt_mesh[\"c_rest_pos\"], tgt_mesh[\"fid_to_cids\"])\n",
    "\n",
    "# original features before PCA compression\n",
    "src_feature_orig = torch.from_numpy(np.load(f\"/data/saus/saus-train-v3/{char_names[src_idx]}/Mesh/tpose_mesh_diff3f.npy\")).float().to(device)\n",
    "tgt_feature_orig = torch.from_numpy(np.load(f\"/data/saus/saus-test-v3/{test_char_names[tgt_idx]}/Mesh/tpose_mesh_diff3f.npy\")).float().to(device)\n",
    "s_orig = cosine_similarity(src_feature_orig, tgt_feature_orig)\n",
    "s_orig = torch.argmax(s_orig, dim=0).cpu().numpy()\n",
    "cmap_source_orig = get_colors(src_mesh.vert)\n",
    "cmap_target_orig = cmap_source_orig[s_orig]\n",
    "\n",
    "double_plot(src_mesh, tgt_mesh, cmap_source_orig, cmap_target_orig)\n",
    "\n",
    "# compressed features\n",
    "test_feature_pca = []\n",
    "for i in range(len(test_dims)):\n",
    "    test_feature_pca.append(test_features[test_cumsum_dims[i]:test_cumsum_dims[i+1]])\n",
    "src_feature_pca = feature_pca[src_idx]\n",
    "tgt_feature_pca = test_feature_pca[tgt_idx]\n",
    "\n",
    "s = cosine_similarity(src_feature_pca.to(device), tgt_feature_pca.to(device))\n",
    "s = torch.argmax(s, dim=0).cpu().numpy()\n",
    "cmap_source = get_colors(src_mesh.vert)\n",
    "cmap_target = cmap_source[s]\n",
    "\n",
    "double_plot(src_mesh, tgt_mesh,cmap_source, cmap_target)"
   ]
  },
  {
   "cell_type": "code",
   "execution_count": 34,
   "metadata": {},
   "outputs": [
    {
     "name": "stdout",
     "output_type": "stream",
     "text": [
      "saved AlienSoldier shape torch.Size([4783, 32])\n",
      "saved Amy shape torch.Size([4826, 32])\n",
      "saved Brady shape torch.Size([4906, 32])\n",
      "saved Brian shape torch.Size([4985, 32])\n",
      "saved Bryce shape torch.Size([4866, 32])\n",
      "saved Chad shape torch.Size([4898, 32])\n",
      "saved Claire shape torch.Size([4224, 32])\n",
      "saved CopzombieL shape torch.Size([4821, 32])\n",
      "saved Jolleen shape torch.Size([4693, 32])\n",
      "saved Kaya shape torch.Size([4260, 32])\n",
      "saved MariaJJOng shape torch.Size([4780, 32])\n",
      "saved Mousey shape torch.Size([4950, 32])\n",
      "saved PeasantMan shape torch.Size([2414, 32])\n",
      "saved PumpkinhulkL shape torch.Size([4858, 32])\n",
      "saved TheBoss shape torch.Size([4799, 32])\n",
      "saved Timmy shape torch.Size([4931, 32])\n",
      "saved VanguardByTChoonyung shape torch.Size([4772, 32])\n",
      "saved Astra shape torch.Size([4728, 32])\n",
      "saved CastleGuard01 shape torch.Size([2410, 32])\n",
      "saved Doozy shape torch.Size([4967, 32])\n",
      "saved Jackie shape torch.Size([4754, 32])\n",
      "saved Michelle shape torch.Size([4974, 32])\n",
      "saved MremirehODesbiens shape torch.Size([2534, 32])\n",
      "saved Ortiz shape torch.Size([4594, 32])\n",
      "saved Ty shape torch.Size([2931, 32])\n",
      "saved XBot shape torch.Size([4584, 32])\n"
     ]
    }
   ],
   "source": [
    "# save\n",
    "for i in range(len(dims)):\n",
    "    np.save(f\"/data/saus/saus-train-v3/{char_names[i]}/Mesh/tpose_mesh_diff3f_pca.npy\", feature_pca[i].cpu().numpy())\n",
    "    print(f\"saved {char_names[i]} shape {feature_pca[i].shape}\")\n",
    "for i in range(len(test_dims)):\n",
    "    np.save(f\"/data/saus/saus-test-v3/{test_char_names[i]}/Mesh/tpose_mesh_diff3f_pca.npy\", test_feature_pca[i].cpu().numpy())\n",
    "    print(f\"saved {test_char_names[i]} shape {test_feature_pca[i].shape}\")"
   ]
  }
 ],
 "metadata": {
  "kernelspec": {
   "display_name": "cv",
   "language": "python",
   "name": "python3"
  },
  "language_info": {
   "codemirror_mode": {
    "name": "ipython",
    "version": 3
   },
   "file_extension": ".py",
   "mimetype": "text/x-python",
   "name": "python",
   "nbconvert_exporter": "python",
   "pygments_lexer": "ipython3",
   "version": "3.8.19"
  }
 },
 "nbformat": 4,
 "nbformat_minor": 2
}
