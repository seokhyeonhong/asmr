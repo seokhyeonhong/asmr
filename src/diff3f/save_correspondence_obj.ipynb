{
 "cells": [
  {
   "cell_type": "code",
   "execution_count": 1,
   "metadata": {},
   "outputs": [],
   "source": [
    "import torch\n",
    "from utils import convert_mesh_container_to_torch_mesh, cosine_similarity, double_plot, get_colors, generate_colors\n",
    "from dataloaders.mesh_container import MeshContainer\n",
    "from functional_map import compute_surface_map\n",
    "import numpy as np\n",
    "import os\n",
    "import trimesh\n"
   ]
  },
  {
   "cell_type": "code",
   "execution_count": 2,
   "metadata": {},
   "outputs": [],
   "source": [
    "device = torch.device('cuda:0')\n",
    "torch.cuda.set_device(device)\n",
    "num_views = 100\n",
    "H = 512\n",
    "W = 512\n",
    "num_images_per_prompt = 1\n",
    "tolerance = 0.004\n",
    "random_seed = 42\n",
    "use_normal_map = True"
   ]
  },
  {
   "cell_type": "code",
   "execution_count": 3,
   "metadata": {},
   "outputs": [],
   "source": [
    "source_file_path = \"/data/saus/saus-train-v3/Chad/Mesh/tpose_mesh.npz\"\n",
    "source_mesh = np.load(source_file_path)\n",
    "source_mesh = MeshContainer(source_mesh[\"c_rest_pos\"], source_mesh[\"fid_to_cids\"])\n",
    "f_source = torch.from_numpy(np.load(\"/data/saus/saus-train-v3/Chad/Mesh/tpose_mesh_diff3f.npy\")).float()\n",
    "\n",
    "# for char in [\"Amy\", \"Claire\", \"CopzombieL\", \"Kaya\", \"TheBoss\", \"Timmy\"]:\n",
    "#     target_file_path = f\"/data/saus/saus-train-v3/{char}/Mesh/tpose_mesh.npz\"\n",
    "#     if not os.path.exists(target_file_path):\n",
    "#         target_file_path.replace(\"train\", \"test\")\n",
    "#     target_mesh = np.load(target_file_path)\n",
    "#     target_mesh = MeshContainer(target_mesh[\"c_rest_pos\"], target_mesh[\"fid_to_cids\"])\n",
    "\n",
    "#     f_target = torch.from_numpy(np.load(target_file_path.replace(\"tpose_mesh.npz\", \"tpose_mesh_diff3f.npy\"))).float()\n",
    "\n",
    "#     s = cosine_similarity(f_source.to(device),f_target.to(device))\n",
    "#     s = torch.argmax(s, dim=0).cpu().numpy()\n",
    "#     cmap_source = get_colors(source_mesh.vert)\n",
    "#     cmap_target = cmap_source[s]\n",
    "\n",
    "#     vtx = target_mesh.vert\n",
    "#     faces = target_mesh.face\n",
    "#     mesh = trimesh.Trimesh(vertices=vtx, faces=faces, vertex_colors=cmap_target)\n",
    "#     mesh.show()\n",
    "#     mesh.export(f\"{char}.obj\")\n",
    "\n",
    "#     vtx = source_mesh.vert\n",
    "#     faces = source_mesh.face\n",
    "#     mesh = trimesh.Trimesh(vertices=vtx, faces=faces, vertex_colors=cmap_source)\n",
    "#     mesh.show()\n",
    "#     mesh.export(\"Chad.obj\")"
   ]
  },
  {
   "cell_type": "code",
   "execution_count": 3,
   "metadata": {},
   "outputs": [],
   "source": [
    "source_file_path = \"/data/saus/saus-train-v3/Chad/Mesh/tpose_mesh.npz\"\n",
    "source_mesh = np.load(source_file_path)\n",
    "source_mesh = MeshContainer(source_mesh[\"c_rest_pos\"], source_mesh[\"fid_to_cids\"])\n",
    "f_source = torch.from_numpy(np.load(\"/data/saus/saus-train-v3/Chad/Mesh/tpose_mesh_diff3f.npy\")).float()\n",
    "\n",
    "target_file_path = \"/data/saus/asmr-ood/163/Mesh/tpose_mesh.npz\"\n",
    "target_mesh = np.load(target_file_path)\n",
    "target_mesh = MeshContainer(target_mesh[\"c_rest_pos\"], target_mesh[\"fid_to_cids\"])\n",
    "f_target = torch.from_numpy(np.load(\"/data/shong/nrf/ASMR-Revision/163.npz\")[\"feat\"]).float()\n",
    "\n",
    "s = cosine_similarity(f_source.to(device),f_target.to(device))\n",
    "s = torch.argmax(s, dim=0).cpu().numpy()\n",
    "cmap_source = get_colors(source_mesh.vert)\n",
    "cmap_target = cmap_source[s]"
   ]
  },
  {
   "cell_type": "code",
   "execution_count": 5,
   "metadata": {},
   "outputs": [
    {
     "data": {
      "application/vnd.jupyter.widget-view+json": {
       "model_id": "416e83970653450197340825a5408bf1",
       "version_major": 2,
       "version_minor": 0
      },
      "text/plain": [
       "HBox(children=(Output(), Output()))"
      ]
     },
     "metadata": {},
     "output_type": "display_data"
    },
    {
     "data": {
      "application/vnd.jupyter.widget-view+json": {
       "model_id": "4a693237bd4f4476acf966de6cae0b3b",
       "version_major": 2,
       "version_minor": 0
      },
      "text/plain": [
       "HBox(children=(Output(), Output()))"
      ]
     },
     "metadata": {},
     "output_type": "display_data"
    }
   ],
   "source": [
    "double_plot(source_mesh,target_mesh,cmap_source,cmap_target)"
   ]
  },
  {
   "cell_type": "code",
   "execution_count": null,
   "metadata": {},
   "outputs": [],
   "source": []
  }
 ],
 "metadata": {
  "kernelspec": {
   "display_name": "saus",
   "language": "python",
   "name": "saus"
  }
 },
 "nbformat": 4,
 "nbformat_minor": 4
}
